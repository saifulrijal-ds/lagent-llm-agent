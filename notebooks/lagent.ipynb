{
 "cells": [
  {
   "cell_type": "code",
   "execution_count": 3,
   "metadata": {},
   "outputs": [
    {
     "data": {
      "text/plain": [
       "['BaseAction',\n",
       " 'InvalidAction',\n",
       " 'NoAction',\n",
       " 'FinishAction',\n",
       " 'ArxivSearch',\n",
       " 'BingBrowser',\n",
       " 'BINGMap',\n",
       " 'GoogleScholar',\n",
       " 'GoogleSearch',\n",
       " 'IPythonInteractive',\n",
       " 'IPythonInterpreter',\n",
       " 'BatchIPythonInterpreter',\n",
       " 'IPythonInteractiveManager',\n",
       " 'PPT',\n",
       " 'PythonInterpreter']"
      ]
     },
     "execution_count": 3,
     "metadata": {},
     "output_type": "execute_result"
    }
   ],
   "source": [
    "from lagent import list_tools, get_tool\n",
    "\n",
    "list_tools()"
   ]
  },
  {
   "cell_type": "code",
   "execution_count": 4,
   "metadata": {},
   "outputs": [
    {
     "data": {
      "text/plain": [
       "{'name': 'IPythonInterpreter',\n",
       " 'description': \"When you send a message containing Python code to python, it will be executed in a stateful Jupyter notebook environment. python will respond with the output of the execution or time out after 60.0 seconds. The drive at '/mnt/data' can be used to save and persist user files. Internet access for this session is disabled. Do not make external web requests or API calls as they will fail.\",\n",
       " 'parameters': [{'name': 'command',\n",
       "   'type': 'STRING',\n",
       "   'description': 'Python code'},\n",
       "  {'name': 'timeout',\n",
       "   'type': 'NUMBER',\n",
       "   'description': 'Upper bound of waiting time for Python script execution.'}],\n",
       " 'required': ['command'],\n",
       " 'parameter_description': 'If you call this tool, you must pass arguments in the JSON format {key: value}, where the key is the parameter name.'}"
      ]
     },
     "execution_count": 4,
     "metadata": {},
     "output_type": "execute_result"
    }
   ],
   "source": [
    "ipython_interpreter = get_tool('IPythonInterpreter')\n",
    "ipython_interpreter.description"
   ]
  },
  {
   "cell_type": "code",
   "execution_count": 18,
   "metadata": {},
   "outputs": [],
   "source": [
    "from lagent.agents.react import ReAct\n",
    "from lagent.actions import ActionExecutor, IPythonInterpreter\n",
    "from lagent.llms import GPTAPI\n",
    "from dotenv import load_dotenv\n",
    "import os\n",
    "\n",
    "load_dotenv('../.env')\n",
    "\n",
    "OPENAI_API_KEY = os.getenv('OPENAI_API_KEY')\n",
    "\n",
    "llm =GPTAPI(model_type='gpt-3.5-turbo', key=OPENAI_API_KEY)\n",
    "\n",
    "ipython_tool = IPythonInterpreter()\n",
    "action_executor = ActionExecutor(actions=[ipython_tool])\n",
    "\n",
    "chatbot = ReAct(llm=llm, action_executor=action_executor)\n"
   ]
  },
  {
   "cell_type": "code",
   "execution_count": 19,
   "metadata": {},
   "outputs": [],
   "source": [
    "question = \"Find the value of the expression $\\dfrac{17}{5} :\\dfrac{34}{3} +1.3$.\""
   ]
  },
  {
   "cell_type": "code",
   "execution_count": 20,
   "metadata": {},
   "outputs": [],
   "source": [
    "response = chatbot.chat(question)"
   ]
  },
  {
   "cell_type": "code",
   "execution_count": 21,
   "metadata": {},
   "outputs": [
    {
     "name": "stdout",
     "output_type": "stream",
     "text": [
      " Let's calculate the value of the expression.\n"
     ]
    }
   ],
   "source": [
    "print(response.response)"
   ]
  },
  {
   "cell_type": "code",
   "execution_count": 22,
   "metadata": {},
   "outputs": [],
   "source": [
    "question = 'In a company of 30 people, 25 use the social network \"Odnoklassniki\" and 10 use the social network \"VKontakte\". Choose the statements that are true under the given conditions.\\n\\n\\\\begin{center}\\n\\\\begin{tabularx}{\\\\textwidth}{p{0.1cm}X}  \\n1) & In this company, there will be 10 people who do not use either \"Odnoklassniki\" or \"VKontakte\". \\\\\\\\ \\n2) & In this company, there will be at least 5 people using both networks. \\\\\\\\ \\n3) & There will not be a single person in this company who uses only \"Odnoklassniki\". \\\\\\\\ \\n4) & No more than 10 people in this company use both networks. \\\\\\\\ \\n\\\\end{tabularx}\\\\end{center}\\n\\nIn the answer, write the numbers of the selected statements without spaces, commas, or other additional symbols.'\n",
    "response = chatbot.chat(question)"
   ]
  },
  {
   "cell_type": "code",
   "execution_count": 12,
   "metadata": {},
   "outputs": [
    {
     "name": "stdout",
     "output_type": "stream",
     "text": [
      " 2\n",
      "```\n"
     ]
    }
   ],
   "source": [
    "print(response.response)"
   ]
  },
  {
   "cell_type": "code",
   "execution_count": 16,
   "metadata": {},
   "outputs": [],
   "source": [
    "from lagent.agents.rewoo import ReWOO\n",
    "from lagent.actions import ActionExecutor, IPythonInterpreter\n",
    "from lagent.llms import GPTAPI\n",
    "from dotenv import load_dotenv\n",
    "import os\n",
    "\n",
    "load_dotenv('../.env')\n",
    "\n",
    "OPENAI_API_KEY = os.getenv('OPENAI_API_KEY')\n",
    "\n",
    "llm =GPTAPI(model_type='gpt-3.5-turbo', key=OPENAI_API_KEY)\n",
    "\n",
    "ipython_tool = IPythonInterpreter()\n",
    "action_executor = ActionExecutor(actions=[ipython_tool])\n",
    "\n",
    "chatbot = ReWOO(llm=llm, action_executor=action_executor)\n"
   ]
  },
  {
   "cell_type": "code",
   "execution_count": 17,
   "metadata": {},
   "outputs": [
    {
     "ename": "AssertionError",
     "evalue": "",
     "output_type": "error",
     "traceback": [
      "\u001b[0;31m---------------------------------------------------------------------------\u001b[0m",
      "\u001b[0;31mAssertionError\u001b[0m                            Traceback (most recent call last)",
      "Cell \u001b[0;32mIn[17], line 2\u001b[0m\n\u001b[1;32m      1\u001b[0m question \u001b[38;5;241m=\u001b[39m \u001b[38;5;124m\"\u001b[39m\u001b[38;5;124mFind the value of the expression $\u001b[39m\u001b[38;5;124m\\\u001b[39m\u001b[38;5;124mdfrac\u001b[39m\u001b[38;5;132;01m{17}\u001b[39;00m\u001b[38;5;132;01m{5}\u001b[39;00m\u001b[38;5;124m :\u001b[39m\u001b[38;5;124m\\\u001b[39m\u001b[38;5;124mdfrac\u001b[39m\u001b[38;5;132;01m{34}\u001b[39;00m\u001b[38;5;132;01m{3}\u001b[39;00m\u001b[38;5;124m +1.3$.\u001b[39m\u001b[38;5;124m\"\u001b[39m\n\u001b[0;32m----> 2\u001b[0m response \u001b[38;5;241m=\u001b[39m \u001b[43mchatbot\u001b[49m\u001b[38;5;241;43m.\u001b[39;49m\u001b[43mchat\u001b[49m\u001b[43m(\u001b[49m\u001b[43mquestion\u001b[49m\u001b[43m)\u001b[49m\n",
      "File \u001b[0;32m~/.local/share/virtualenvs/lagent-llm-agent-6NaGfprj/lib/python3.11/site-packages/lagent/agents/rewoo.py:285\u001b[0m, in \u001b[0;36mReWOO.chat\u001b[0;34m(self, message, **kwargs)\u001b[0m\n\u001b[1;32m    281\u001b[0m solver_prompt, worker_log \u001b[38;5;241m=\u001b[39m \u001b[38;5;28mself\u001b[39m\u001b[38;5;241m.\u001b[39m_protocol\u001b[38;5;241m.\u001b[39mformat_solver(\n\u001b[1;32m    282\u001b[0m     message, thoughts, action_responses)\n\u001b[1;32m    283\u001b[0m inner_history\u001b[38;5;241m.\u001b[39mappend(\u001b[38;5;28mdict\u001b[39m(role\u001b[38;5;241m=\u001b[39m\u001b[38;5;124m'\u001b[39m\u001b[38;5;124msystem\u001b[39m\u001b[38;5;124m'\u001b[39m, content\u001b[38;5;241m=\u001b[39mworker_log))\n\u001b[0;32m--> 285\u001b[0m final_response \u001b[38;5;241m=\u001b[39m \u001b[38;5;28;43mself\u001b[39;49m\u001b[38;5;241;43m.\u001b[39;49m\u001b[43m_llm\u001b[49m\u001b[38;5;241;43m.\u001b[39;49m\u001b[43mchat\u001b[49m\u001b[43m(\u001b[49m\u001b[43msolver_prompt\u001b[49m\u001b[43m,\u001b[49m\u001b[43m \u001b[49m\u001b[38;5;241;43m*\u001b[39;49m\u001b[38;5;241;43m*\u001b[39;49m\u001b[43mkwargs\u001b[49m\u001b[43m)\u001b[49m\n\u001b[1;32m    286\u001b[0m inner_history\u001b[38;5;241m.\u001b[39mappend(\u001b[38;5;28mdict\u001b[39m(role\u001b[38;5;241m=\u001b[39m\u001b[38;5;124m'\u001b[39m\u001b[38;5;124massistant\u001b[39m\u001b[38;5;124m'\u001b[39m, content\u001b[38;5;241m=\u001b[39mfinal_response))\n\u001b[1;32m    287\u001b[0m agent_return\u001b[38;5;241m.\u001b[39minner_steps \u001b[38;5;241m=\u001b[39m inner_history[offset:]\n",
      "File \u001b[0;32m~/.local/share/virtualenvs/lagent-llm-agent-6NaGfprj/lib/python3.11/site-packages/lagent/llms/openai.py:115\u001b[0m, in \u001b[0;36mGPTAPI.chat\u001b[0;34m(self, inputs, **gen_params)\u001b[0m\n\u001b[1;32m    100\u001b[0m \u001b[38;5;28;01mdef\u001b[39;00m \u001b[38;5;21mchat\u001b[39m(\n\u001b[1;32m    101\u001b[0m     \u001b[38;5;28mself\u001b[39m,\n\u001b[1;32m    102\u001b[0m     inputs: Union[List[\u001b[38;5;28mdict\u001b[39m], List[List[\u001b[38;5;28mdict\u001b[39m]]],\n\u001b[1;32m    103\u001b[0m     \u001b[38;5;241m*\u001b[39m\u001b[38;5;241m*\u001b[39mgen_params,\n\u001b[1;32m    104\u001b[0m ) \u001b[38;5;241m-\u001b[39m\u001b[38;5;241m>\u001b[39m Union[\u001b[38;5;28mstr\u001b[39m, List[\u001b[38;5;28mstr\u001b[39m]]:\n\u001b[1;32m    105\u001b[0m \u001b[38;5;250m    \u001b[39m\u001b[38;5;124;03m\"\"\"Generate responses given the contexts.\u001b[39;00m\n\u001b[1;32m    106\u001b[0m \n\u001b[1;32m    107\u001b[0m \u001b[38;5;124;03m    Args:\u001b[39;00m\n\u001b[0;32m   (...)\u001b[0m\n\u001b[1;32m    113\u001b[0m \u001b[38;5;124;03m        Union[str, List[str]]: generated string(s)\u001b[39;00m\n\u001b[1;32m    114\u001b[0m \u001b[38;5;124;03m    \"\"\"\u001b[39;00m\n\u001b[0;32m--> 115\u001b[0m     \u001b[38;5;28;01massert\u001b[39;00m \u001b[38;5;28misinstance\u001b[39m(inputs, \u001b[38;5;28mlist\u001b[39m)\n\u001b[1;32m    116\u001b[0m     \u001b[38;5;28;01mif\u001b[39;00m \u001b[38;5;124m'\u001b[39m\u001b[38;5;124mmax_tokens\u001b[39m\u001b[38;5;124m'\u001b[39m \u001b[38;5;129;01min\u001b[39;00m gen_params:\n\u001b[1;32m    117\u001b[0m         \u001b[38;5;28;01mraise\u001b[39;00m \u001b[38;5;167;01mNotImplementedError\u001b[39;00m(\u001b[38;5;124m'\u001b[39m\u001b[38;5;124munsupported parameter: max_tokens\u001b[39m\u001b[38;5;124m'\u001b[39m)\n",
      "\u001b[0;31mAssertionError\u001b[0m: "
     ]
    }
   ],
   "source": [
    "question = \"Find the value of the expression $\\dfrac{17}{5} :\\dfrac{34}{3} +1.3$.\"\n",
    "response = chatbot.chat(question)"
   ]
  },
  {
   "cell_type": "code",
   "execution_count": null,
   "metadata": {},
   "outputs": [],
   "source": [
    "print"
   ]
  }
 ],
 "metadata": {
  "kernelspec": {
   "display_name": "lagent-llm-agent-6NaGfprj",
   "language": "python",
   "name": "python3"
  },
  "language_info": {
   "codemirror_mode": {
    "name": "ipython",
    "version": 3
   },
   "file_extension": ".py",
   "mimetype": "text/x-python",
   "name": "python",
   "nbconvert_exporter": "python",
   "pygments_lexer": "ipython3",
   "version": "3.11.9"
  }
 },
 "nbformat": 4,
 "nbformat_minor": 2
}
